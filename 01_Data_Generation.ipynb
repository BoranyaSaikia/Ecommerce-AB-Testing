{
  "nbformat": 4,
  "nbformat_minor": 0,
  "metadata": {
    "colab": {
      "provenance": []
    },
    "kernelspec": {
      "name": "python3",
      "display_name": "Python 3"
    },
    "language_info": {
      "name": "python"
    }
  },
  "cells": [
    {
      "cell_type": "markdown",
      "source": [
        "### Title"
      ],
      "metadata": {
        "id": "n0Wm5bRBl9j1"
      }
    },
    {
      "cell_type": "markdown",
      "source": [
        "Synthetic Data Generation for E-Commerce A/B Testing"
      ],
      "metadata": {
        "id": "D0GzHR-Rmbva"
      }
    },
    {
      "cell_type": "markdown",
      "source": [
        "### Description"
      ],
      "metadata": {
        "id": "jkWsLDymmhWu"
      }
    },
    {
      "cell_type": "markdown",
      "source": [
        "This notebook generates synthetic datasets which simulate user and sessions data for an e-commerce website. The data includes user demographics, traffic sources and A/B test assignments for image layout, CTA button, and social prrof. This notebook serves as the foundation for subsequent exploratory data analysis and hypothesis testing."
      ],
      "metadata": {
        "id": "Ei3H3brQmlb3"
      }
    },
    {
      "cell_type": "markdown",
      "source": [
        "## Introduction"
      ],
      "metadata": {
        "id": "nDNX7CEFntHi"
      }
    },
    {
      "cell_type": "markdown",
      "source": [
        "To analyze the impact of different page elements on user behavior and the conversion rate, we need realistic synthetic datasets. These datasets should mimic actual e-commerce traffic and user interactions. This notebook generates two datasets `users_data` containing user-level attributes and A/B test assignments; and `sessions_data`containing session-level details."
      ],
      "metadata": {
        "id": "wyFEFy6on0LD"
      }
    },
    {
      "cell_type": "markdown",
      "source": [
        "## Objectives"
      ],
      "metadata": {
        "id": "NpXFcaH5p1Pz"
      }
    },
    {
      "cell_type": "markdown",
      "source": [
        "*   To simulate user demographics and traffic sources reflecting typical e-commerce website activity\n",
        "*   Assign users to control or treatment groups for image layout, CTA button and social proof experiments\n",
        "*   Generate sessions data corresponding to these user profiles and A/B assignments\n",
        "*   Validate the generated data to ensure it is suitable for exploratory data analysis and hypothesis testing\n",
        "\n",
        "\n",
        "\n"
      ],
      "metadata": {
        "id": "ijWSIrsDp30w"
      }
    },
    {
      "cell_type": "markdown",
      "source": [
        "## Import Libarries"
      ],
      "metadata": {
        "id": "21ZFM3wqqcnk"
      }
    },
    {
      "cell_type": "code",
      "source": [
        "import pandas as pd\n",
        "import numpy as np\n",
        "from datetime import datetime, timedelta\n",
        "import random\n",
        "import os\n",
        "from scipy import stats\n",
        "import warnings\n",
        "warnings.filterwarnings('ignore')"
      ],
      "metadata": {
        "id": "8igq_WEbq4Tk"
      },
      "execution_count": null,
      "outputs": []
    },
    {
      "cell_type": "markdown",
      "source": [
        "## Business Logic and Assumption"
      ],
      "metadata": {
        "id": "Raes2iHuuoVT"
      }
    },
    {
      "cell_type": "markdown",
      "source": [
        "**Business Logic in Users Data Simulation:**\n",
        "\n",
        "1.   **Experiment duration**: The simulation covers a period starting from the specified `start_date` (default: 2024-01-01) and spans `duration_days` (dafault: 90 days). All generated data falls within this time window.\n",
        "2.   **Randomness and Reproducibility**: Both Numpy and Python's random number geenrators are seeded with reproducibility, ensuring that the same synthetic data is produced each time with the same seed.\n",
        "\n",
        "3. **Base Rates and Effect Sizes**:\n",
        "*   The basline conversion rate for the site is set at 2.5%.\n",
        "*   The baseline click-through-rate (CTR) for calls-to-action is 15%.\n",
        "*   Three experimental factors - image layout, CTA button and social proof, with relative effect sizes of 15%, 12% and 22% respectively, represents the expected uplift in conversion rate when the treatment is applied.\n",
        "\n",
        "4. **User Segmentation**:\n",
        "*  Device Type: Users are assigned a device type with the following probability: 45% desktop, 45% mobile, and 10% tablet. This reflects a balanced desktop and mobile audience with a smaller proportion of tablet users.\n",
        "* Traffic Source: Users are assigned a traffic source with these probabilities: 35% organic, 25% paid search, 15% each for social and direct and 10% for email. This is designed to mimic typical e-commerce acquisition channels.\n",
        "* User Type: 65% users are new and 35% are returning, which reflects a healthy mix of new and repeat visitors.\n",
        "\n",
        "5. **User Registration Date**: Each registration date for a user is generated by sampling an exponential distribution (mean = 30 days) and subtracting that many days from the experiment's start date. This simulates a realistic spread of user sign-up times, with more recent registrations being more common.\n",
        "\n",
        "6. **User IDs**: Each user is assigned a unique ID in the format user_XXXXXX where XXXXXX is a zer-padded integer.\n",
        "\n",
        "\n",
        "\n",
        "\n"
      ],
      "metadata": {
        "id": "KTply6nLutWt"
      }
    },
    {
      "cell_type": "markdown",
      "source": [
        "**Business Logic in Session Simulation**:\n",
        "\n",
        "1. **Sessions per user**: The number of sessions is drawn from a Poisson distribution (plus one to avoid zero). It reflects real-world analytics where some users are more active than others.\n",
        "\n",
        "2. **Session Timing**: Session timestamps are generated with realistic day-of-week and hour-of-week patterns, where traffic is not uniformly distributed across time. It simulates higher activity during the business hours and evenings.\n",
        "\n",
        "3. **Device-Specific Behavior**: The device-specific multipliers are based on industry observations.\n",
        "\n",
        "*   Desktop users are modeled to have higher CTR, conversion rates and longer sessions durations.\n",
        "*   Mobile users have lower conversion and shorter sessions, reflecting common mobile usage trends.\n",
        "*   Tablet users are intermediate\n",
        "\n",
        "4. **Traffic Source Effects**: The traffic sources also affects CTR and conversion rates. E-mails and paid search users are modeled with higher engagement due to their intent-driven nature.\n",
        "\n",
        "5. **Page Views**: The number of pages viewed in a session is drawn from a Poisson distribution, simulating the variability in browsing depth.\n",
        "\n",
        "6. **Click and Conversion Simulation**: The probability of clicking a CTA is bounded and capped at 95% and simulated as a Bernoulli trial. Conversion depends on whether the CTA was clicked. It is simulated with a capped probability which reflects the funnel from click to purchase.\n",
        "\n",
        "7. **Revenue Modeling**: Revenue is generated only for converted sessions. The amount is sampled from a log-normal distribution, which is commonly used to model transaction values in e-commerce due to its positive skewness.\n",
        "\n",
        "8. **Session Duration**: Session duration is drawn from a gamma distribution, scaled by device type, to reflect realistic session length variability.\n",
        "\n",
        "9. **Seasonality and Weekly Patterns**: Additional features like day of week, week number and month are extracted for time-based analysis. On weekends, users are modeled to browse more (higher page views, longer sessions) but with lower conversion rates, reflecting typical e-commerce trends.\n",
        "\n",
        "\n",
        "\n",
        "\n"
      ],
      "metadata": {
        "id": "3G8ZeQwjzfG9"
      }
    },
    {
      "cell_type": "markdown",
      "source": [
        "**Treatment Assignment Logic**\n",
        "\n",
        "1. We assign each user to control or treatment groups for three independent A/B tests: image layout, CTA button and social proof.\n",
        "\n",
        "2. Each user us assigned to either 'control' or 'treatment' group for each test using random assignment with equal probability (50% control and 50% treatment).\n",
        "\n",
        "3. Thus the assignment is unbiased and prevents selection bias. Both the groups are balanced in size and representative of the overall user base.\n",
        "\n",
        "4. The only systematic difference between groups is the experimental condition, supporting causal inference."
      ],
      "metadata": {
        "id": "XyV5f9mgybme"
      }
    },
    {
      "cell_type": "markdown",
      "source": [
        "## Schema Overview"
      ],
      "metadata": {
        "id": "kXMNAu3wrq7k"
      }
    },
    {
      "cell_type": "markdown",
      "source": [
        "**Schema Design for Users Dataset**"
      ],
      "metadata": {
        "id": "IVQSIaoKtpzB"
      }
    },
    {
      "cell_type": "markdown",
      "source": [
        "| Column Name           | Data Type | Description                                  | Example Value    |\n",
        "|-----------------------|-----------|----------------------------------------------|-----------------|\n",
        "| user_id               | object    | Unique user identifier (primary key)                      | USER_000001     |\n",
        "| device_type           | object    | Device used by user (mobile/desktop/tablet)  | mobile          |\n",
        "| traffic_source        | object    | How user arrived (organic/paid/referral)     | organic         |\n",
        "| user_type             | object    | User type (new/returning)                    | new             |\n",
        "| registration_date     | object    | Date user registered (YYYY-MM-DD)            | 2025-01-15      |\n",
        "| image_layout_group    | object    | A/B group for image layout                   | control         |\n",
        "| cta_button_group      | object    | A/B group for CTA button                     | treatment       |\n",
        "| social_proof_group    | object    | A/B group for social proof                   | control         |\n",
        "\n"
      ],
      "metadata": {
        "id": "rsywhkfhrvud"
      }
    },
    {
      "cell_type": "markdown",
      "source": [
        " **Schema Design for Sessions Dataset**"
      ],
      "metadata": {
        "id": "3zf_sj5K5mxu"
      }
    },
    {
      "cell_type": "markdown",
      "source": [
        "| Column Name                | Data Type  | Description                                                         | Example Value        |\n",
        "|----------------------------|------------|---------------------------------------------------------------------|---------------------|\n",
        "| session_id                 | object     | Unique identifier for the session (primary key)                                   | user_000001_s0      |\n",
        "| user_id                    | object     | Unique identifier for the user (foreign key to users_data)          | user_000001         |\n",
        "| session_date               | datetime   | Timestamp for the session (date and time)                           | 2024-01-15 14:30    |\n",
        "| device_type                | object     | Device used in session (desktop, mobile, tablet)                    | mobile              |\n",
        "| traffic_source             | object     | Channel through which user arrived (organic, paid_search, etc.)     | organic             |\n",
        "| user_type                  | object     | User segment (new, returning)                                       | new                 |\n",
        "| image_layout_group         | object     | A/B test group for image layout (control, treatment)                | treatment           |\n",
        "| cta_button_group           | object     | A/B test group for CTA button (control, treatment)                  | control             |\n",
        "| social_proof_group         | object     | A/B test group for social proof (control, treatment)                | treatment           |\n",
        "| page_views                 | float64    | Number of pages viewed in the session                               | 4                   |\n",
        "| session_duration_minutes   | float64    | Duration of the session in minutes                                  | 7.5                 |\n",
        "| clicked_cta                | int64      | Whether the CTA was clicked (1=yes, 0=no)                           | 1                   |\n",
        "| converted                  | int64      | Whether a conversion occurred (1=yes, 0=no)                         | 0                   |\n",
        "| revenue                    | float64    | Revenue generated in the session (0 if not converted)               | 49.99               |\n",
        "| log_revenue                | float64    | Log-transformed revenue for normalization                           | 3.91                |\n",
        "| day_of_week                | object     | Day of the week for the session                                     | Monday              |\n",
        "| week_number                | int64      | ISO week number of the session                                      | 3                   |\n",
        "| month                      | int64      | Month of the session (1-12)                                         | 1                   |\n"
      ],
      "metadata": {
        "id": "sVsqHZRR5J66"
      }
    },
    {
      "cell_type": "markdown",
      "source": [
        "## Class Definition\n"
      ],
      "metadata": {
        "id": "vWxbmYv-88Sf"
      }
    },
    {
      "cell_type": "code",
      "source": [
        "class EcommerceABTestGenerator:\n",
        "    \"\"\"\n",
        "    Generate realistic synthetic data for e-commerce A/B testing portfolio project\n",
        "    \"\"\"\n",
        "\n",
        "    def __init__(self, start_date='2024-01-01', duration_days=90, seed=42):\n",
        "        self.start_date = datetime.strptime(start_date, '%Y-%m-%d')\n",
        "        self.duration_days = duration_days\n",
        "        self.end_date = self.start_date + timedelta(days=duration_days)\n",
        "        np.random.seed(seed)\n",
        "        random.seed(seed)\n",
        "\n",
        "        # Base conversion rates and effect sizes\n",
        "        self.base_conversion_rate = 0.025  # 2.5% baseline\n",
        "        self.base_ctr = 0.15  # 15% click-through rate\n",
        "        self.effect_sizes = {\n",
        "            'image_layout': 0.15,    # 15% relative improvement\n",
        "            'cta_button': 0.12,      # 12% relative improvement\n",
        "            'social_proof': 0.22     # 22% relative improvement\n",
        "        }\n",
        "\n",
        "    def generate_users(self, n_users=100000):\n",
        "        \"\"\"Generate user demographic and behavioral data\"\"\"\n",
        "\n",
        "        # User segments with realistic distributions\n",
        "        device_types = ['desktop', 'mobile', 'tablet']\n",
        "        device_weights = [0.45, 0.45, 0.10]\n",
        "\n",
        "        traffic_sources = ['organic', 'paid_search', 'social', 'direct', 'email']\n",
        "        traffic_weights = [0.35, 0.25, 0.15, 0.15, 0.10]\n",
        "\n",
        "        user_types = ['new', 'returning']\n",
        "        user_type_weights = [0.65, 0.35]\n",
        "\n",
        "        # Generate user data\n",
        "        users_data = {\n",
        "            'user_id': [f'user_{i:06d}' for i in range(n_users)],\n",
        "            'device_type': np.random.choice(device_types, n_users, p=device_weights),\n",
        "            'traffic_source': np.random.choice(traffic_sources, n_users, p=traffic_weights),\n",
        "            'user_type': np.random.choice(user_types, n_users, p=user_type_weights),\n",
        "            'registration_date': [\n",
        "                self.start_date - timedelta(days=np.random.exponential(30))\n",
        "                for _ in range(n_users)\n",
        "            ]\n",
        "        }\n",
        "\n",
        "        return pd.DataFrame(users_data)\n",
        "\n",
        "    def assign_treatments(self, users_df):\n",
        "        \"\"\"Randomly assign users to treatment groups\"\"\"\n",
        "\n",
        "        n_users = len(users_df)\n",
        "\n",
        "        # Treatment assignments (balanced randomization)\n",
        "        treatments = {\n",
        "            'image_layout': np.random.choice(['control', 'treatment'], n_users, p=[0.5, 0.5]),\n",
        "            'cta_button': np.random.choice(['control', 'treatment'], n_users, p=[0.5, 0.5]),\n",
        "            'social_proof': np.random.choice(['control', 'treatment'], n_users, p=[0.5, 0.5])\n",
        "        }\n",
        "\n",
        "        # Add to dataframe\n",
        "        for test_name, assignments in treatments.items():\n",
        "            users_df[f'{test_name}_group'] = assignments\n",
        "\n",
        "        return users_df\n",
        "\n",
        "    def simulate_sessions(self, users_df, avg_sessions_per_user=2.3):\n",
        "        \"\"\"Generate session-level data with realistic patterns\"\"\"\n",
        "\n",
        "        sessions = []\n",
        "\n",
        "        for _, user in users_df.iterrows():\n",
        "            # Number of sessions per user (Poisson distribution)\n",
        "            n_sessions = np.random.poisson(avg_sessions_per_user) + 1\n",
        "\n",
        "            for session_num in range(n_sessions):\n",
        "                # Session timing with day-of-week and hour effects\n",
        "                session_date = self._generate_session_timestamp()\n",
        "\n",
        "                # Device-specific behavior adjustments\n",
        "                device_multipliers = {\n",
        "                    'desktop': {'ctr': 1.2, 'conversion': 1.4, 'time': 1.3},\n",
        "                    'mobile': {'ctr': 0.9, 'conversion': 0.8, 'time': 0.7},\n",
        "                    'tablet': {'ctr': 1.0, 'conversion': 1.1, 'time': 1.0}\n",
        "                }\n",
        "\n",
        "                device_mult = device_multipliers[user['device_type']]\n",
        "\n",
        "                # Traffic source effects\n",
        "                traffic_multipliers = {\n",
        "                    'organic': {'ctr': 1.1, 'conversion': 1.2},\n",
        "                    'paid_search': {'ctr': 1.3, 'conversion': 1.1},\n",
        "                    'social': {'ctr': 1.0, 'conversion': 0.9},\n",
        "                    'direct': {'ctr': 1.2, 'conversion': 1.3},\n",
        "                    'email': {'ctr': 1.4, 'conversion': 1.25}\n",
        "                }\n",
        "\n",
        "                traffic_mult = traffic_multipliers[user['traffic_source']]\n",
        "\n",
        "                # Calculate adjusted rates\n",
        "                base_ctr = self.base_ctr * device_mult['ctr'] * traffic_mult['ctr']\n",
        "                base_conv = self.base_conversion_rate * device_mult['conversion'] * traffic_mult['conversion']\n",
        "\n",
        "                # Apply treatment effects\n",
        "                final_ctr = self._apply_treatment_effects(user, base_ctr, 'ctr')\n",
        "                final_conv = self._apply_treatment_effects(user, base_conv, 'conversion')\n",
        "\n",
        "                # Simulate user behavior\n",
        "                page_views = np.random.poisson(3) + 1\n",
        "                clicked_cta = np.random.binomial(1, min(final_ctr, 0.95))\n",
        "\n",
        "                if clicked_cta:\n",
        "                    converted = np.random.binomial(1, min(final_conv / base_ctr, 0.5))\n",
        "                else:\n",
        "                    converted = np.random.binomial(1, min(final_conv * 0.1, 0.05))  # Low conversion without click\n",
        "\n",
        "                # Revenue simulation (if converted)\n",
        "                revenue = 0\n",
        "                if converted:\n",
        "                    # Log-normal distribution for order values\n",
        "                    revenue = np.random.lognormal(mean=3.5, sigma=0.8)  # ~$50 average\n",
        "                else:\n",
        "                  revenue = 0\n",
        "                log_revenue = np.log1p(revenue)\n",
        "\n",
        "                # Session duration (minutes)\n",
        "                base_duration = 4.5 * device_mult['time']\n",
        "                session_duration = np.random.gamma(2, base_duration/2)\n",
        "\n",
        "                session_data = {\n",
        "                    'session_id': f\"{user['user_id']}_s{session_num}\",\n",
        "                    'user_id': user['user_id'],\n",
        "                    'session_date': session_date,\n",
        "                    'device_type': user['device_type'],\n",
        "                    'traffic_source': user['traffic_source'],\n",
        "                    'user_type': user['user_type'],\n",
        "                    'image_layout_group': user['image_layout_group'],\n",
        "                    'cta_button_group': user['cta_button_group'],\n",
        "                    'social_proof_group': user['social_proof_group'],\n",
        "                    'page_views': page_views,\n",
        "                    'session_duration_minutes': round(session_duration, 2),\n",
        "                    'clicked_cta': clicked_cta,\n",
        "                    'converted': converted,\n",
        "                    'revenue': round(revenue, 2) if revenue > 0 else 0,\n",
        "                    'log_revenue': log_revenue\n",
        "                }\n",
        "\n",
        "                sessions.append(session_data)\n",
        "\n",
        "        return pd.DataFrame(sessions)\n",
        "\n",
        "    def _generate_session_timestamp(self):\n",
        "        \"\"\"Generate realistic session timestamps with day/hour patterns\"\"\"\n",
        "\n",
        "        # Random day within the test period\n",
        "        random_day = np.random.randint(0, self.duration_days)\n",
        "        session_date = self.start_date + timedelta(days=random_day)\n",
        "\n",
        "        # Hour distribution (higher traffic during business hours and evenings)\n",
        "        hour_weights = [0.01, 0.01, 0.01, 0.01, 0.01, 0.02,  # 0-5 AM\n",
        "                       0.03, 0.05, 0.08, 0.10, 0.09, 0.08,  # 6-11 AM\n",
        "                       0.07, 0.06, 0.08, 0.09, 0.08, 0.07,  # 12-5 PM\n",
        "                       0.06, 0.07, 0.08, 0.06, 0.04, 0.02]  # 6-11 PM\n",
        "\n",
        "        hour_weights = np.array(hour_weights)\n",
        "        hour_weights = hour_weights / hour_weights.sum()\n",
        "\n",
        "        hour = np.random.choice(range(24), p=hour_weights)\n",
        "        minute = np.random.randint(0, 60)\n",
        "\n",
        "        return session_date.replace(hour=hour, minute=minute)\n",
        "\n",
        "    def _apply_treatment_effects(self, user, base_rate, metric_type):\n",
        "        \"\"\"Apply treatment effects based on user's assigned groups\"\"\"\n",
        "\n",
        "        rate = base_rate\n",
        "\n",
        "        # Image layout effect (affects both CTR and conversion)\n",
        "        if user['image_layout_group'] == 'treatment':\n",
        "            if metric_type in ['ctr', 'conversion']:\n",
        "                rate *= (1 + self.effect_sizes['image_layout'])\n",
        "\n",
        "        # CTA button effect (primarily affects CTR)\n",
        "        if user['cta_button_group'] == 'treatment':\n",
        "            if metric_type == 'ctr':\n",
        "                rate *= (1 + self.effect_sizes['cta_button'])\n",
        "            elif metric_type == 'conversion':\n",
        "                rate *= (1 + self.effect_sizes['cta_button'] * 0.6)  # Smaller conversion effect\n",
        "\n",
        "        # Social proof effect (primarily affects conversion)\n",
        "        if user['social_proof_group'] == 'treatment':\n",
        "            if metric_type == 'conversion':\n",
        "                rate *= (1 + self.effect_sizes['social_proof'])\n",
        "            elif metric_type == 'ctr':\n",
        "                rate *= (1 + self.effect_sizes['social_proof'] * 0.3)  # Smaller CTR effect\n",
        "\n",
        "        return rate\n",
        "\n",
        "    def add_seasonal_patterns(self, sessions_df):\n",
        "        \"\"\"Add realistic seasonal and weekly patterns\"\"\"\n",
        "\n",
        "        sessions_df['day_of_week'] = sessions_df['session_date'].dt.day_name()\n",
        "        sessions_df['week_number'] = sessions_df['session_date'].dt.isocalendar().week\n",
        "        sessions_df['month'] = sessions_df['session_date'].dt.month\n",
        "\n",
        "        # Weekend effect (lower conversion but higher browsing)\n",
        "        weekend_mask = sessions_df['day_of_week'].isin(['Saturday', 'Sunday'])\n",
        "        sessions_df.loc[weekend_mask, 'page_views'] *= 1.2\n",
        "        sessions_df.loc[weekend_mask, 'session_duration_minutes'] *= 1.1\n",
        "\n",
        "        return sessions_df\n",
        "\n",
        "    def generate_complete_dataset(self, n_users=100000):\n",
        "        \"\"\"Generate the complete dataset for A/B testing analysis\"\"\"\n",
        "\n",
        "        print(\"Generating user data...\")\n",
        "        users_df = self.generate_users(n_users)\n",
        "\n",
        "        print(\"Assigning treatments...\")\n",
        "        users_df = self.assign_treatments(users_df)\n",
        "\n",
        "        print(\"Simulating sessions...\")\n",
        "        sessions_df = self.simulate_sessions(users_df)\n",
        "\n",
        "        print(\"Adding seasonal patterns...\")\n",
        "        sessions_df = self.add_seasonal_patterns(sessions_df)\n",
        "\n",
        "        print(f\"Generated {len(sessions_df)} sessions for {len(users_df)} users\")\n",
        "        print(f\"Date range: {sessions_df['session_date'].min()} to {sessions_df['session_date'].max()}\")\n",
        "\n",
        "        return sessions_df, users_df\n"
      ],
      "metadata": {
        "id": "wkJx7E878-yw"
      },
      "execution_count": null,
      "outputs": []
    },
    {
      "cell_type": "markdown",
      "source": [
        "## Usage Example"
      ],
      "metadata": {
        "id": "nSY8utvr9W3j"
      }
    },
    {
      "cell_type": "code",
      "source": [
        "if __name__ == \"__main__\":\n",
        "    # Initialize generator\n",
        "    generator = EcommerceABTestGenerator(\n",
        "        start_date='2024-01-01',\n",
        "        duration_days=90,\n",
        "        seed=42\n",
        "    )\n",
        "\n",
        "    # Generate dataset\n",
        "    sessions_df, users_df = generator.generate_complete_dataset(n_users=75000)\n",
        "\n",
        "    # Basic statistics\n",
        "    print(\"\\n=== Dataset Summary ===\")\n",
        "    print(f\"Total sessions: {len(sessions_df):,}\")\n",
        "    print(f\"Total users: {len(users_df):,}\")\n",
        "    print(f\"Overall conversion rate: {sessions_df['converted'].mean():.3%}\")\n",
        "    print(f\"Overall CTR: {sessions_df['clicked_cta'].mean():.3%}\")\n",
        "    print(f\"Total revenue: ${sessions_df['revenue'].sum():,.2f}\")\n",
        "\n",
        "    # Treatment group sizes\n",
        "    print(\"\\n=== Treatment Group Sizes ===\")\n",
        "    for test in ['image_layout', 'cta_button', 'social_proof']:\n",
        "        print(f\"{test}:\")\n",
        "        print(sessions_df[f'{test}_group'].value_counts())\n",
        "        print()"
      ],
      "metadata": {
        "colab": {
          "base_uri": "https://localhost:8080/"
        },
        "id": "C4Q4oi4m9c2Z",
        "outputId": "40f9375b-8ebf-420f-ca93-3f9e056c04b0"
      },
      "execution_count": null,
      "outputs": [
        {
          "output_type": "stream",
          "name": "stdout",
          "text": [
            "Generating user data...\n",
            "Assigning treatments...\n",
            "Simulating sessions...\n",
            "Adding seasonal patterns...\n",
            "Generated 248033 sessions for 75000 users\n",
            "Date range: 2024-01-01 00:03:00 to 2024-03-30 23:59:00\n",
            "\n",
            "=== Dataset Summary ===\n",
            "Total sessions: 248,033\n",
            "Total users: 75,000\n",
            "Overall conversion rate: 4.964%\n",
            "Overall CTR: 21.687%\n",
            "Total revenue: $562,410.23\n",
            "\n",
            "=== Treatment Group Sizes ===\n",
            "image_layout:\n",
            "image_layout_group\n",
            "control      124418\n",
            "treatment    123615\n",
            "Name: count, dtype: int64\n",
            "\n",
            "cta_button:\n",
            "cta_button_group\n",
            "control      124068\n",
            "treatment    123965\n",
            "Name: count, dtype: int64\n",
            "\n",
            "social_proof:\n",
            "social_proof_group\n",
            "treatment    124436\n",
            "control      123597\n",
            "Name: count, dtype: int64\n",
            "\n"
          ]
        }
      ]
    },
    {
      "cell_type": "markdown",
      "source": [
        "## Save Datasets"
      ],
      "metadata": {
        "id": "nNeStO729pLj"
      }
    },
    {
      "cell_type": "code",
      "source": [
        "# Mount the Drive\n",
        "from google.colab import drive\n",
        "drive.mount('/content/drive')\n",
        "\n",
        "os.makedirs('/content/drive/MyDrive/data', exist_ok=True)\n",
        "sessions_df.to_csv('/content/drive/MyDrive/data/sessions_data.csv', index=False)\n",
        "users_df.to_csv('/content/drive/MyDrive/data/users_data.csv', index=False)\n",
        "\n",
        "print(\"Datasets saved to 'data/' directory\")\n",
        "\n"
      ],
      "metadata": {
        "colab": {
          "base_uri": "https://localhost:8080/"
        },
        "id": "hLtziYcZ9uFq",
        "outputId": "225d1df5-1999-49c7-bae6-e2b90c00df70"
      },
      "execution_count": null,
      "outputs": [
        {
          "output_type": "stream",
          "name": "stdout",
          "text": [
            "Drive already mounted at /content/drive; to attempt to forcibly remount, call drive.mount(\"/content/drive\", force_remount=True).\n",
            "Datasets saved to 'data/' directory\n"
          ]
        }
      ]
    },
    {
      "cell_type": "markdown",
      "source": [
        "## Loading the Datasets"
      ],
      "metadata": {
        "id": "4UhAPjuN99Bm"
      }
    },
    {
      "cell_type": "code",
      "source": [
        "sessions_df = pd.read_csv('/content/drive/MyDrive/data/sessions_data.csv')\n",
        "users_df= pd.read_csv('/content/drive/MyDrive/data/users_data.csv')"
      ],
      "metadata": {
        "id": "G-oDo4QK9BbR"
      },
      "execution_count": null,
      "outputs": []
    },
    {
      "cell_type": "markdown",
      "source": [
        "## Data Quality Check"
      ],
      "metadata": {
        "id": "9h6azYTW_gNu"
      }
    },
    {
      "cell_type": "markdown",
      "source": [
        "**Users_Data Information**"
      ],
      "metadata": {
        "id": "4F538Slm_tqx"
      }
    },
    {
      "cell_type": "code",
      "source": [
        "users_df.info()"
      ],
      "metadata": {
        "colab": {
          "base_uri": "https://localhost:8080/"
        },
        "id": "A1O95Awe_kQm",
        "outputId": "1594fb07-c691-4890-bf00-d6b9402ef250"
      },
      "execution_count": null,
      "outputs": [
        {
          "output_type": "stream",
          "name": "stdout",
          "text": [
            "<class 'pandas.core.frame.DataFrame'>\n",
            "RangeIndex: 75000 entries, 0 to 74999\n",
            "Data columns (total 8 columns):\n",
            " #   Column              Non-Null Count  Dtype \n",
            "---  ------              --------------  ----- \n",
            " 0   user_id             75000 non-null  object\n",
            " 1   device_type         75000 non-null  object\n",
            " 2   traffic_source      75000 non-null  object\n",
            " 3   user_type           75000 non-null  object\n",
            " 4   registration_date   75000 non-null  object\n",
            " 5   image_layout_group  75000 non-null  object\n",
            " 6   cta_button_group    75000 non-null  object\n",
            " 7   social_proof_group  75000 non-null  object\n",
            "dtypes: object(8)\n",
            "memory usage: 4.6+ MB\n"
          ]
        }
      ]
    },
    {
      "cell_type": "markdown",
      "source": [
        "**Unique User IDs**"
      ],
      "metadata": {
        "id": "ycjj5CpPA37Z"
      }
    },
    {
      "cell_type": "code",
      "source": [
        "print(\"Unique user ids: \", users_df['user_id'].nunique())\n",
        "print(\"Total user_ids: \", len(users_df))"
      ],
      "metadata": {
        "colab": {
          "base_uri": "https://localhost:8080/"
        },
        "id": "LGghoLFG_pE9",
        "outputId": "348c88df-28cb-4392-c180-acd2a7220c46"
      },
      "execution_count": null,
      "outputs": [
        {
          "output_type": "stream",
          "name": "stdout",
          "text": [
            "Unique user ids:  75000\n",
            "Total user_ids:  75000\n"
          ]
        }
      ]
    },
    {
      "cell_type": "markdown",
      "source": [
        "**sessions_data information**"
      ],
      "metadata": {
        "id": "05T_VdExARVj"
      }
    },
    {
      "cell_type": "code",
      "source": [
        "sessions_df.info()"
      ],
      "metadata": {
        "colab": {
          "base_uri": "https://localhost:8080/"
        },
        "id": "yzYUrYx9APpy",
        "outputId": "9e939ccf-db6a-4397-e817-06e2c0593da6"
      },
      "execution_count": null,
      "outputs": [
        {
          "output_type": "stream",
          "name": "stdout",
          "text": [
            "<class 'pandas.core.frame.DataFrame'>\n",
            "RangeIndex: 248033 entries, 0 to 248032\n",
            "Data columns (total 18 columns):\n",
            " #   Column                    Non-Null Count   Dtype  \n",
            "---  ------                    --------------   -----  \n",
            " 0   session_id                248033 non-null  object \n",
            " 1   user_id                   248033 non-null  object \n",
            " 2   session_date              248033 non-null  object \n",
            " 3   device_type               248033 non-null  object \n",
            " 4   traffic_source            248033 non-null  object \n",
            " 5   user_type                 248033 non-null  object \n",
            " 6   image_layout_group        248033 non-null  object \n",
            " 7   cta_button_group          248033 non-null  object \n",
            " 8   social_proof_group        248033 non-null  object \n",
            " 9   page_views                248033 non-null  float64\n",
            " 10  session_duration_minutes  248033 non-null  float64\n",
            " 11  clicked_cta               248033 non-null  int64  \n",
            " 12  converted                 248033 non-null  int64  \n",
            " 13  revenue                   248033 non-null  float64\n",
            " 14  log_revenue               248033 non-null  float64\n",
            " 15  day_of_week               248033 non-null  object \n",
            " 16  week_number               248033 non-null  int64  \n",
            " 17  month                     248033 non-null  int64  \n",
            "dtypes: float64(4), int64(4), object(10)\n",
            "memory usage: 34.1+ MB\n"
          ]
        }
      ]
    },
    {
      "cell_type": "markdown",
      "source": [
        "**Check for unique sessions id**"
      ],
      "metadata": {
        "id": "7pGZBk5_As7l"
      }
    },
    {
      "cell_type": "code",
      "source": [
        "print(\"Unique session_ids:\", sessions_df['session_id'].nunique())\n",
        "print(\"Total session_ids:\", len(sessions_df))"
      ],
      "metadata": {
        "colab": {
          "base_uri": "https://localhost:8080/"
        },
        "id": "jhjQ5uZTAYc2",
        "outputId": "7f99243b-47fe-412d-958b-acc25ecc12af"
      },
      "execution_count": null,
      "outputs": [
        {
          "output_type": "stream",
          "name": "stdout",
          "text": [
            "Unique session_ids: 248033\n",
            "Total session_ids: 248033\n"
          ]
        }
      ]
    },
    {
      "cell_type": "markdown",
      "source": [
        "**Summary Statistics for users_data**"
      ],
      "metadata": {
        "id": "-9VQqy4oA9TZ"
      }
    },
    {
      "cell_type": "code",
      "source": [
        "users_df.describe()"
      ],
      "metadata": {
        "colab": {
          "base_uri": "https://localhost:8080/",
          "height": 175
        },
        "id": "v5FYgInrAk69",
        "outputId": "0debd30b-57af-4604-af96-179333fe3075"
      },
      "execution_count": null,
      "outputs": [
        {
          "output_type": "execute_result",
          "data": {
            "text/plain": [
              "            user_id device_type traffic_source user_type  \\\n",
              "count         75000       75000          75000     75000   \n",
              "unique        75000           3              5         2   \n",
              "top     user_074999      mobile        organic       new   \n",
              "freq              1       33850          26180     48732   \n",
              "\n",
              "                 registration_date image_layout_group cta_button_group  \\\n",
              "count                        75000              75000            75000   \n",
              "unique                       75000                  2                2   \n",
              "top     2023-11-25 11:17:13.519149            control          control   \n",
              "freq                             1              37641            37505   \n",
              "\n",
              "       social_proof_group  \n",
              "count               75000  \n",
              "unique                  2  \n",
              "top             treatment  \n",
              "freq                37647  "
            ],
            "text/html": [
              "\n",
              "  <div id=\"df-f67fcb9b-8f32-4dfa-89e5-2f470bab9d19\" class=\"colab-df-container\">\n",
              "    <div>\n",
              "<style scoped>\n",
              "    .dataframe tbody tr th:only-of-type {\n",
              "        vertical-align: middle;\n",
              "    }\n",
              "\n",
              "    .dataframe tbody tr th {\n",
              "        vertical-align: top;\n",
              "    }\n",
              "\n",
              "    .dataframe thead th {\n",
              "        text-align: right;\n",
              "    }\n",
              "</style>\n",
              "<table border=\"1\" class=\"dataframe\">\n",
              "  <thead>\n",
              "    <tr style=\"text-align: right;\">\n",
              "      <th></th>\n",
              "      <th>user_id</th>\n",
              "      <th>device_type</th>\n",
              "      <th>traffic_source</th>\n",
              "      <th>user_type</th>\n",
              "      <th>registration_date</th>\n",
              "      <th>image_layout_group</th>\n",
              "      <th>cta_button_group</th>\n",
              "      <th>social_proof_group</th>\n",
              "    </tr>\n",
              "  </thead>\n",
              "  <tbody>\n",
              "    <tr>\n",
              "      <th>count</th>\n",
              "      <td>75000</td>\n",
              "      <td>75000</td>\n",
              "      <td>75000</td>\n",
              "      <td>75000</td>\n",
              "      <td>75000</td>\n",
              "      <td>75000</td>\n",
              "      <td>75000</td>\n",
              "      <td>75000</td>\n",
              "    </tr>\n",
              "    <tr>\n",
              "      <th>unique</th>\n",
              "      <td>75000</td>\n",
              "      <td>3</td>\n",
              "      <td>5</td>\n",
              "      <td>2</td>\n",
              "      <td>75000</td>\n",
              "      <td>2</td>\n",
              "      <td>2</td>\n",
              "      <td>2</td>\n",
              "    </tr>\n",
              "    <tr>\n",
              "      <th>top</th>\n",
              "      <td>user_074999</td>\n",
              "      <td>mobile</td>\n",
              "      <td>organic</td>\n",
              "      <td>new</td>\n",
              "      <td>2023-11-25 11:17:13.519149</td>\n",
              "      <td>control</td>\n",
              "      <td>control</td>\n",
              "      <td>treatment</td>\n",
              "    </tr>\n",
              "    <tr>\n",
              "      <th>freq</th>\n",
              "      <td>1</td>\n",
              "      <td>33850</td>\n",
              "      <td>26180</td>\n",
              "      <td>48732</td>\n",
              "      <td>1</td>\n",
              "      <td>37641</td>\n",
              "      <td>37505</td>\n",
              "      <td>37647</td>\n",
              "    </tr>\n",
              "  </tbody>\n",
              "</table>\n",
              "</div>\n",
              "    <div class=\"colab-df-buttons\">\n",
              "\n",
              "  <div class=\"colab-df-container\">\n",
              "    <button class=\"colab-df-convert\" onclick=\"convertToInteractive('df-f67fcb9b-8f32-4dfa-89e5-2f470bab9d19')\"\n",
              "            title=\"Convert this dataframe to an interactive table.\"\n",
              "            style=\"display:none;\">\n",
              "\n",
              "  <svg xmlns=\"http://www.w3.org/2000/svg\" height=\"24px\" viewBox=\"0 -960 960 960\">\n",
              "    <path d=\"M120-120v-720h720v720H120Zm60-500h600v-160H180v160Zm220 220h160v-160H400v160Zm0 220h160v-160H400v160ZM180-400h160v-160H180v160Zm440 0h160v-160H620v160ZM180-180h160v-160H180v160Zm440 0h160v-160H620v160Z\"/>\n",
              "  </svg>\n",
              "    </button>\n",
              "\n",
              "  <style>\n",
              "    .colab-df-container {\n",
              "      display:flex;\n",
              "      gap: 12px;\n",
              "    }\n",
              "\n",
              "    .colab-df-convert {\n",
              "      background-color: #E8F0FE;\n",
              "      border: none;\n",
              "      border-radius: 50%;\n",
              "      cursor: pointer;\n",
              "      display: none;\n",
              "      fill: #1967D2;\n",
              "      height: 32px;\n",
              "      padding: 0 0 0 0;\n",
              "      width: 32px;\n",
              "    }\n",
              "\n",
              "    .colab-df-convert:hover {\n",
              "      background-color: #E2EBFA;\n",
              "      box-shadow: 0px 1px 2px rgba(60, 64, 67, 0.3), 0px 1px 3px 1px rgba(60, 64, 67, 0.15);\n",
              "      fill: #174EA6;\n",
              "    }\n",
              "\n",
              "    .colab-df-buttons div {\n",
              "      margin-bottom: 4px;\n",
              "    }\n",
              "\n",
              "    [theme=dark] .colab-df-convert {\n",
              "      background-color: #3B4455;\n",
              "      fill: #D2E3FC;\n",
              "    }\n",
              "\n",
              "    [theme=dark] .colab-df-convert:hover {\n",
              "      background-color: #434B5C;\n",
              "      box-shadow: 0px 1px 3px 1px rgba(0, 0, 0, 0.15);\n",
              "      filter: drop-shadow(0px 1px 2px rgba(0, 0, 0, 0.3));\n",
              "      fill: #FFFFFF;\n",
              "    }\n",
              "  </style>\n",
              "\n",
              "    <script>\n",
              "      const buttonEl =\n",
              "        document.querySelector('#df-f67fcb9b-8f32-4dfa-89e5-2f470bab9d19 button.colab-df-convert');\n",
              "      buttonEl.style.display =\n",
              "        google.colab.kernel.accessAllowed ? 'block' : 'none';\n",
              "\n",
              "      async function convertToInteractive(key) {\n",
              "        const element = document.querySelector('#df-f67fcb9b-8f32-4dfa-89e5-2f470bab9d19');\n",
              "        const dataTable =\n",
              "          await google.colab.kernel.invokeFunction('convertToInteractive',\n",
              "                                                    [key], {});\n",
              "        if (!dataTable) return;\n",
              "\n",
              "        const docLinkHtml = 'Like what you see? Visit the ' +\n",
              "          '<a target=\"_blank\" href=https://colab.research.google.com/notebooks/data_table.ipynb>data table notebook</a>'\n",
              "          + ' to learn more about interactive tables.';\n",
              "        element.innerHTML = '';\n",
              "        dataTable['output_type'] = 'display_data';\n",
              "        await google.colab.output.renderOutput(dataTable, element);\n",
              "        const docLink = document.createElement('div');\n",
              "        docLink.innerHTML = docLinkHtml;\n",
              "        element.appendChild(docLink);\n",
              "      }\n",
              "    </script>\n",
              "  </div>\n",
              "\n",
              "\n",
              "    <div id=\"df-a35a9dbf-e5cf-45f2-bc61-fb4bf6221b3d\">\n",
              "      <button class=\"colab-df-quickchart\" onclick=\"quickchart('df-a35a9dbf-e5cf-45f2-bc61-fb4bf6221b3d')\"\n",
              "                title=\"Suggest charts\"\n",
              "                style=\"display:none;\">\n",
              "\n",
              "<svg xmlns=\"http://www.w3.org/2000/svg\" height=\"24px\"viewBox=\"0 0 24 24\"\n",
              "     width=\"24px\">\n",
              "    <g>\n",
              "        <path d=\"M19 3H5c-1.1 0-2 .9-2 2v14c0 1.1.9 2 2 2h14c1.1 0 2-.9 2-2V5c0-1.1-.9-2-2-2zM9 17H7v-7h2v7zm4 0h-2V7h2v10zm4 0h-2v-4h2v4z\"/>\n",
              "    </g>\n",
              "</svg>\n",
              "      </button>\n",
              "\n",
              "<style>\n",
              "  .colab-df-quickchart {\n",
              "      --bg-color: #E8F0FE;\n",
              "      --fill-color: #1967D2;\n",
              "      --hover-bg-color: #E2EBFA;\n",
              "      --hover-fill-color: #174EA6;\n",
              "      --disabled-fill-color: #AAA;\n",
              "      --disabled-bg-color: #DDD;\n",
              "  }\n",
              "\n",
              "  [theme=dark] .colab-df-quickchart {\n",
              "      --bg-color: #3B4455;\n",
              "      --fill-color: #D2E3FC;\n",
              "      --hover-bg-color: #434B5C;\n",
              "      --hover-fill-color: #FFFFFF;\n",
              "      --disabled-bg-color: #3B4455;\n",
              "      --disabled-fill-color: #666;\n",
              "  }\n",
              "\n",
              "  .colab-df-quickchart {\n",
              "    background-color: var(--bg-color);\n",
              "    border: none;\n",
              "    border-radius: 50%;\n",
              "    cursor: pointer;\n",
              "    display: none;\n",
              "    fill: var(--fill-color);\n",
              "    height: 32px;\n",
              "    padding: 0;\n",
              "    width: 32px;\n",
              "  }\n",
              "\n",
              "  .colab-df-quickchart:hover {\n",
              "    background-color: var(--hover-bg-color);\n",
              "    box-shadow: 0 1px 2px rgba(60, 64, 67, 0.3), 0 1px 3px 1px rgba(60, 64, 67, 0.15);\n",
              "    fill: var(--button-hover-fill-color);\n",
              "  }\n",
              "\n",
              "  .colab-df-quickchart-complete:disabled,\n",
              "  .colab-df-quickchart-complete:disabled:hover {\n",
              "    background-color: var(--disabled-bg-color);\n",
              "    fill: var(--disabled-fill-color);\n",
              "    box-shadow: none;\n",
              "  }\n",
              "\n",
              "  .colab-df-spinner {\n",
              "    border: 2px solid var(--fill-color);\n",
              "    border-color: transparent;\n",
              "    border-bottom-color: var(--fill-color);\n",
              "    animation:\n",
              "      spin 1s steps(1) infinite;\n",
              "  }\n",
              "\n",
              "  @keyframes spin {\n",
              "    0% {\n",
              "      border-color: transparent;\n",
              "      border-bottom-color: var(--fill-color);\n",
              "      border-left-color: var(--fill-color);\n",
              "    }\n",
              "    20% {\n",
              "      border-color: transparent;\n",
              "      border-left-color: var(--fill-color);\n",
              "      border-top-color: var(--fill-color);\n",
              "    }\n",
              "    30% {\n",
              "      border-color: transparent;\n",
              "      border-left-color: var(--fill-color);\n",
              "      border-top-color: var(--fill-color);\n",
              "      border-right-color: var(--fill-color);\n",
              "    }\n",
              "    40% {\n",
              "      border-color: transparent;\n",
              "      border-right-color: var(--fill-color);\n",
              "      border-top-color: var(--fill-color);\n",
              "    }\n",
              "    60% {\n",
              "      border-color: transparent;\n",
              "      border-right-color: var(--fill-color);\n",
              "    }\n",
              "    80% {\n",
              "      border-color: transparent;\n",
              "      border-right-color: var(--fill-color);\n",
              "      border-bottom-color: var(--fill-color);\n",
              "    }\n",
              "    90% {\n",
              "      border-color: transparent;\n",
              "      border-bottom-color: var(--fill-color);\n",
              "    }\n",
              "  }\n",
              "</style>\n",
              "\n",
              "      <script>\n",
              "        async function quickchart(key) {\n",
              "          const quickchartButtonEl =\n",
              "            document.querySelector('#' + key + ' button');\n",
              "          quickchartButtonEl.disabled = true;  // To prevent multiple clicks.\n",
              "          quickchartButtonEl.classList.add('colab-df-spinner');\n",
              "          try {\n",
              "            const charts = await google.colab.kernel.invokeFunction(\n",
              "                'suggestCharts', [key], {});\n",
              "          } catch (error) {\n",
              "            console.error('Error during call to suggestCharts:', error);\n",
              "          }\n",
              "          quickchartButtonEl.classList.remove('colab-df-spinner');\n",
              "          quickchartButtonEl.classList.add('colab-df-quickchart-complete');\n",
              "        }\n",
              "        (() => {\n",
              "          let quickchartButtonEl =\n",
              "            document.querySelector('#df-a35a9dbf-e5cf-45f2-bc61-fb4bf6221b3d button');\n",
              "          quickchartButtonEl.style.display =\n",
              "            google.colab.kernel.accessAllowed ? 'block' : 'none';\n",
              "        })();\n",
              "      </script>\n",
              "    </div>\n",
              "\n",
              "    </div>\n",
              "  </div>\n"
            ],
            "application/vnd.google.colaboratory.intrinsic+json": {
              "type": "dataframe",
              "summary": "{\n  \"name\": \"users_df\",\n  \"rows\": 4,\n  \"fields\": [\n    {\n      \"column\": \"user_id\",\n      \"properties\": {\n        \"dtype\": \"string\",\n        \"num_unique_values\": 3,\n        \"samples\": [\n          \"75000\",\n          \"user_074999\",\n          \"1\"\n        ],\n        \"semantic_type\": \"\",\n        \"description\": \"\"\n      }\n    },\n    {\n      \"column\": \"device_type\",\n      \"properties\": {\n        \"dtype\": \"string\",\n        \"num_unique_values\": 4,\n        \"samples\": [\n          3,\n          \"33850\",\n          \"75000\"\n        ],\n        \"semantic_type\": \"\",\n        \"description\": \"\"\n      }\n    },\n    {\n      \"column\": \"traffic_source\",\n      \"properties\": {\n        \"dtype\": \"string\",\n        \"num_unique_values\": 4,\n        \"samples\": [\n          5,\n          \"26180\",\n          \"75000\"\n        ],\n        \"semantic_type\": \"\",\n        \"description\": \"\"\n      }\n    },\n    {\n      \"column\": \"user_type\",\n      \"properties\": {\n        \"dtype\": \"string\",\n        \"num_unique_values\": 4,\n        \"samples\": [\n          2,\n          \"48732\",\n          \"75000\"\n        ],\n        \"semantic_type\": \"\",\n        \"description\": \"\"\n      }\n    },\n    {\n      \"column\": \"registration_date\",\n      \"properties\": {\n        \"dtype\": \"date\",\n        \"min\": \"1970-01-01 00:00:00.000000001\",\n        \"max\": \"2023-11-25 11:17:13.519149\",\n        \"num_unique_values\": 3,\n        \"samples\": [\n          \"75000\",\n          \"2023-11-25 11:17:13.519149\",\n          \"1\"\n        ],\n        \"semantic_type\": \"\",\n        \"description\": \"\"\n      }\n    },\n    {\n      \"column\": \"image_layout_group\",\n      \"properties\": {\n        \"dtype\": \"string\",\n        \"num_unique_values\": 4,\n        \"samples\": [\n          2,\n          \"37641\",\n          \"75000\"\n        ],\n        \"semantic_type\": \"\",\n        \"description\": \"\"\n      }\n    },\n    {\n      \"column\": \"cta_button_group\",\n      \"properties\": {\n        \"dtype\": \"string\",\n        \"num_unique_values\": 4,\n        \"samples\": [\n          2,\n          \"37505\",\n          \"75000\"\n        ],\n        \"semantic_type\": \"\",\n        \"description\": \"\"\n      }\n    },\n    {\n      \"column\": \"social_proof_group\",\n      \"properties\": {\n        \"dtype\": \"string\",\n        \"num_unique_values\": 4,\n        \"samples\": [\n          2,\n          \"37647\",\n          \"75000\"\n        ],\n        \"semantic_type\": \"\",\n        \"description\": \"\"\n      }\n    }\n  ]\n}"
            }
          },
          "metadata": {},
          "execution_count": 22
        }
      ]
    },
    {
      "cell_type": "markdown",
      "source": [
        "**Summary Statistics for sessions_data**"
      ],
      "metadata": {
        "id": "SpZpcg8VBIj4"
      }
    },
    {
      "cell_type": "code",
      "source": [
        "sessions_df.describe()"
      ],
      "metadata": {
        "colab": {
          "base_uri": "https://localhost:8080/",
          "height": 300
        },
        "id": "aqop9Li4BF8h",
        "outputId": "c872e55a-d33c-459b-cde0-66e0ea447601"
      },
      "execution_count": null,
      "outputs": [
        {
          "output_type": "execute_result",
          "data": {
            "text/plain": [
              "          page_views  session_duration_minutes    clicked_cta      converted  \\\n",
              "count  248033.000000             248033.000000  248033.000000  248033.000000   \n",
              "mean        4.218763                  4.630426       0.216874       0.049643   \n",
              "std         1.868955                  3.659792       0.412117       0.217206   \n",
              "min         1.000000                  0.000000       0.000000       0.000000   \n",
              "25%         3.000000                  2.040000       0.000000       0.000000   \n",
              "50%         4.000000                  3.674000       0.000000       0.000000   \n",
              "75%         5.000000                  6.170000       0.000000       0.000000   \n",
              "max        16.800000                 43.868000       1.000000       1.000000   \n",
              "\n",
              "             revenue    log_revenue    week_number          month  \n",
              "count  248033.000000  248033.000000  248033.000000  248033.000000  \n",
              "mean        2.267481       0.175850       6.936343       1.989441  \n",
              "std        13.847722       0.788141       3.713298       0.823857  \n",
              "min         0.000000       0.000000       1.000000       1.000000  \n",
              "25%         0.000000       0.000000       4.000000       1.000000  \n",
              "50%         0.000000       0.000000       7.000000       2.000000  \n",
              "75%         0.000000       0.000000      10.000000       3.000000  \n",
              "max       791.750000       6.675511      13.000000       3.000000  "
            ],
            "text/html": [
              "\n",
              "  <div id=\"df-d9e8efad-87a0-4d12-8ba4-8bb063903ca7\" class=\"colab-df-container\">\n",
              "    <div>\n",
              "<style scoped>\n",
              "    .dataframe tbody tr th:only-of-type {\n",
              "        vertical-align: middle;\n",
              "    }\n",
              "\n",
              "    .dataframe tbody tr th {\n",
              "        vertical-align: top;\n",
              "    }\n",
              "\n",
              "    .dataframe thead th {\n",
              "        text-align: right;\n",
              "    }\n",
              "</style>\n",
              "<table border=\"1\" class=\"dataframe\">\n",
              "  <thead>\n",
              "    <tr style=\"text-align: right;\">\n",
              "      <th></th>\n",
              "      <th>page_views</th>\n",
              "      <th>session_duration_minutes</th>\n",
              "      <th>clicked_cta</th>\n",
              "      <th>converted</th>\n",
              "      <th>revenue</th>\n",
              "      <th>log_revenue</th>\n",
              "      <th>week_number</th>\n",
              "      <th>month</th>\n",
              "    </tr>\n",
              "  </thead>\n",
              "  <tbody>\n",
              "    <tr>\n",
              "      <th>count</th>\n",
              "      <td>248033.000000</td>\n",
              "      <td>248033.000000</td>\n",
              "      <td>248033.000000</td>\n",
              "      <td>248033.000000</td>\n",
              "      <td>248033.000000</td>\n",
              "      <td>248033.000000</td>\n",
              "      <td>248033.000000</td>\n",
              "      <td>248033.000000</td>\n",
              "    </tr>\n",
              "    <tr>\n",
              "      <th>mean</th>\n",
              "      <td>4.218763</td>\n",
              "      <td>4.630426</td>\n",
              "      <td>0.216874</td>\n",
              "      <td>0.049643</td>\n",
              "      <td>2.267481</td>\n",
              "      <td>0.175850</td>\n",
              "      <td>6.936343</td>\n",
              "      <td>1.989441</td>\n",
              "    </tr>\n",
              "    <tr>\n",
              "      <th>std</th>\n",
              "      <td>1.868955</td>\n",
              "      <td>3.659792</td>\n",
              "      <td>0.412117</td>\n",
              "      <td>0.217206</td>\n",
              "      <td>13.847722</td>\n",
              "      <td>0.788141</td>\n",
              "      <td>3.713298</td>\n",
              "      <td>0.823857</td>\n",
              "    </tr>\n",
              "    <tr>\n",
              "      <th>min</th>\n",
              "      <td>1.000000</td>\n",
              "      <td>0.000000</td>\n",
              "      <td>0.000000</td>\n",
              "      <td>0.000000</td>\n",
              "      <td>0.000000</td>\n",
              "      <td>0.000000</td>\n",
              "      <td>1.000000</td>\n",
              "      <td>1.000000</td>\n",
              "    </tr>\n",
              "    <tr>\n",
              "      <th>25%</th>\n",
              "      <td>3.000000</td>\n",
              "      <td>2.040000</td>\n",
              "      <td>0.000000</td>\n",
              "      <td>0.000000</td>\n",
              "      <td>0.000000</td>\n",
              "      <td>0.000000</td>\n",
              "      <td>4.000000</td>\n",
              "      <td>1.000000</td>\n",
              "    </tr>\n",
              "    <tr>\n",
              "      <th>50%</th>\n",
              "      <td>4.000000</td>\n",
              "      <td>3.674000</td>\n",
              "      <td>0.000000</td>\n",
              "      <td>0.000000</td>\n",
              "      <td>0.000000</td>\n",
              "      <td>0.000000</td>\n",
              "      <td>7.000000</td>\n",
              "      <td>2.000000</td>\n",
              "    </tr>\n",
              "    <tr>\n",
              "      <th>75%</th>\n",
              "      <td>5.000000</td>\n",
              "      <td>6.170000</td>\n",
              "      <td>0.000000</td>\n",
              "      <td>0.000000</td>\n",
              "      <td>0.000000</td>\n",
              "      <td>0.000000</td>\n",
              "      <td>10.000000</td>\n",
              "      <td>3.000000</td>\n",
              "    </tr>\n",
              "    <tr>\n",
              "      <th>max</th>\n",
              "      <td>16.800000</td>\n",
              "      <td>43.868000</td>\n",
              "      <td>1.000000</td>\n",
              "      <td>1.000000</td>\n",
              "      <td>791.750000</td>\n",
              "      <td>6.675511</td>\n",
              "      <td>13.000000</td>\n",
              "      <td>3.000000</td>\n",
              "    </tr>\n",
              "  </tbody>\n",
              "</table>\n",
              "</div>\n",
              "    <div class=\"colab-df-buttons\">\n",
              "\n",
              "  <div class=\"colab-df-container\">\n",
              "    <button class=\"colab-df-convert\" onclick=\"convertToInteractive('df-d9e8efad-87a0-4d12-8ba4-8bb063903ca7')\"\n",
              "            title=\"Convert this dataframe to an interactive table.\"\n",
              "            style=\"display:none;\">\n",
              "\n",
              "  <svg xmlns=\"http://www.w3.org/2000/svg\" height=\"24px\" viewBox=\"0 -960 960 960\">\n",
              "    <path d=\"M120-120v-720h720v720H120Zm60-500h600v-160H180v160Zm220 220h160v-160H400v160Zm0 220h160v-160H400v160ZM180-400h160v-160H180v160Zm440 0h160v-160H620v160ZM180-180h160v-160H180v160Zm440 0h160v-160H620v160Z\"/>\n",
              "  </svg>\n",
              "    </button>\n",
              "\n",
              "  <style>\n",
              "    .colab-df-container {\n",
              "      display:flex;\n",
              "      gap: 12px;\n",
              "    }\n",
              "\n",
              "    .colab-df-convert {\n",
              "      background-color: #E8F0FE;\n",
              "      border: none;\n",
              "      border-radius: 50%;\n",
              "      cursor: pointer;\n",
              "      display: none;\n",
              "      fill: #1967D2;\n",
              "      height: 32px;\n",
              "      padding: 0 0 0 0;\n",
              "      width: 32px;\n",
              "    }\n",
              "\n",
              "    .colab-df-convert:hover {\n",
              "      background-color: #E2EBFA;\n",
              "      box-shadow: 0px 1px 2px rgba(60, 64, 67, 0.3), 0px 1px 3px 1px rgba(60, 64, 67, 0.15);\n",
              "      fill: #174EA6;\n",
              "    }\n",
              "\n",
              "    .colab-df-buttons div {\n",
              "      margin-bottom: 4px;\n",
              "    }\n",
              "\n",
              "    [theme=dark] .colab-df-convert {\n",
              "      background-color: #3B4455;\n",
              "      fill: #D2E3FC;\n",
              "    }\n",
              "\n",
              "    [theme=dark] .colab-df-convert:hover {\n",
              "      background-color: #434B5C;\n",
              "      box-shadow: 0px 1px 3px 1px rgba(0, 0, 0, 0.15);\n",
              "      filter: drop-shadow(0px 1px 2px rgba(0, 0, 0, 0.3));\n",
              "      fill: #FFFFFF;\n",
              "    }\n",
              "  </style>\n",
              "\n",
              "    <script>\n",
              "      const buttonEl =\n",
              "        document.querySelector('#df-d9e8efad-87a0-4d12-8ba4-8bb063903ca7 button.colab-df-convert');\n",
              "      buttonEl.style.display =\n",
              "        google.colab.kernel.accessAllowed ? 'block' : 'none';\n",
              "\n",
              "      async function convertToInteractive(key) {\n",
              "        const element = document.querySelector('#df-d9e8efad-87a0-4d12-8ba4-8bb063903ca7');\n",
              "        const dataTable =\n",
              "          await google.colab.kernel.invokeFunction('convertToInteractive',\n",
              "                                                    [key], {});\n",
              "        if (!dataTable) return;\n",
              "\n",
              "        const docLinkHtml = 'Like what you see? Visit the ' +\n",
              "          '<a target=\"_blank\" href=https://colab.research.google.com/notebooks/data_table.ipynb>data table notebook</a>'\n",
              "          + ' to learn more about interactive tables.';\n",
              "        element.innerHTML = '';\n",
              "        dataTable['output_type'] = 'display_data';\n",
              "        await google.colab.output.renderOutput(dataTable, element);\n",
              "        const docLink = document.createElement('div');\n",
              "        docLink.innerHTML = docLinkHtml;\n",
              "        element.appendChild(docLink);\n",
              "      }\n",
              "    </script>\n",
              "  </div>\n",
              "\n",
              "\n",
              "    <div id=\"df-074bfe68-0e7e-403c-ba1a-3c382e86451b\">\n",
              "      <button class=\"colab-df-quickchart\" onclick=\"quickchart('df-074bfe68-0e7e-403c-ba1a-3c382e86451b')\"\n",
              "                title=\"Suggest charts\"\n",
              "                style=\"display:none;\">\n",
              "\n",
              "<svg xmlns=\"http://www.w3.org/2000/svg\" height=\"24px\"viewBox=\"0 0 24 24\"\n",
              "     width=\"24px\">\n",
              "    <g>\n",
              "        <path d=\"M19 3H5c-1.1 0-2 .9-2 2v14c0 1.1.9 2 2 2h14c1.1 0 2-.9 2-2V5c0-1.1-.9-2-2-2zM9 17H7v-7h2v7zm4 0h-2V7h2v10zm4 0h-2v-4h2v4z\"/>\n",
              "    </g>\n",
              "</svg>\n",
              "      </button>\n",
              "\n",
              "<style>\n",
              "  .colab-df-quickchart {\n",
              "      --bg-color: #E8F0FE;\n",
              "      --fill-color: #1967D2;\n",
              "      --hover-bg-color: #E2EBFA;\n",
              "      --hover-fill-color: #174EA6;\n",
              "      --disabled-fill-color: #AAA;\n",
              "      --disabled-bg-color: #DDD;\n",
              "  }\n",
              "\n",
              "  [theme=dark] .colab-df-quickchart {\n",
              "      --bg-color: #3B4455;\n",
              "      --fill-color: #D2E3FC;\n",
              "      --hover-bg-color: #434B5C;\n",
              "      --hover-fill-color: #FFFFFF;\n",
              "      --disabled-bg-color: #3B4455;\n",
              "      --disabled-fill-color: #666;\n",
              "  }\n",
              "\n",
              "  .colab-df-quickchart {\n",
              "    background-color: var(--bg-color);\n",
              "    border: none;\n",
              "    border-radius: 50%;\n",
              "    cursor: pointer;\n",
              "    display: none;\n",
              "    fill: var(--fill-color);\n",
              "    height: 32px;\n",
              "    padding: 0;\n",
              "    width: 32px;\n",
              "  }\n",
              "\n",
              "  .colab-df-quickchart:hover {\n",
              "    background-color: var(--hover-bg-color);\n",
              "    box-shadow: 0 1px 2px rgba(60, 64, 67, 0.3), 0 1px 3px 1px rgba(60, 64, 67, 0.15);\n",
              "    fill: var(--button-hover-fill-color);\n",
              "  }\n",
              "\n",
              "  .colab-df-quickchart-complete:disabled,\n",
              "  .colab-df-quickchart-complete:disabled:hover {\n",
              "    background-color: var(--disabled-bg-color);\n",
              "    fill: var(--disabled-fill-color);\n",
              "    box-shadow: none;\n",
              "  }\n",
              "\n",
              "  .colab-df-spinner {\n",
              "    border: 2px solid var(--fill-color);\n",
              "    border-color: transparent;\n",
              "    border-bottom-color: var(--fill-color);\n",
              "    animation:\n",
              "      spin 1s steps(1) infinite;\n",
              "  }\n",
              "\n",
              "  @keyframes spin {\n",
              "    0% {\n",
              "      border-color: transparent;\n",
              "      border-bottom-color: var(--fill-color);\n",
              "      border-left-color: var(--fill-color);\n",
              "    }\n",
              "    20% {\n",
              "      border-color: transparent;\n",
              "      border-left-color: var(--fill-color);\n",
              "      border-top-color: var(--fill-color);\n",
              "    }\n",
              "    30% {\n",
              "      border-color: transparent;\n",
              "      border-left-color: var(--fill-color);\n",
              "      border-top-color: var(--fill-color);\n",
              "      border-right-color: var(--fill-color);\n",
              "    }\n",
              "    40% {\n",
              "      border-color: transparent;\n",
              "      border-right-color: var(--fill-color);\n",
              "      border-top-color: var(--fill-color);\n",
              "    }\n",
              "    60% {\n",
              "      border-color: transparent;\n",
              "      border-right-color: var(--fill-color);\n",
              "    }\n",
              "    80% {\n",
              "      border-color: transparent;\n",
              "      border-right-color: var(--fill-color);\n",
              "      border-bottom-color: var(--fill-color);\n",
              "    }\n",
              "    90% {\n",
              "      border-color: transparent;\n",
              "      border-bottom-color: var(--fill-color);\n",
              "    }\n",
              "  }\n",
              "</style>\n",
              "\n",
              "      <script>\n",
              "        async function quickchart(key) {\n",
              "          const quickchartButtonEl =\n",
              "            document.querySelector('#' + key + ' button');\n",
              "          quickchartButtonEl.disabled = true;  // To prevent multiple clicks.\n",
              "          quickchartButtonEl.classList.add('colab-df-spinner');\n",
              "          try {\n",
              "            const charts = await google.colab.kernel.invokeFunction(\n",
              "                'suggestCharts', [key], {});\n",
              "          } catch (error) {\n",
              "            console.error('Error during call to suggestCharts:', error);\n",
              "          }\n",
              "          quickchartButtonEl.classList.remove('colab-df-spinner');\n",
              "          quickchartButtonEl.classList.add('colab-df-quickchart-complete');\n",
              "        }\n",
              "        (() => {\n",
              "          let quickchartButtonEl =\n",
              "            document.querySelector('#df-074bfe68-0e7e-403c-ba1a-3c382e86451b button');\n",
              "          quickchartButtonEl.style.display =\n",
              "            google.colab.kernel.accessAllowed ? 'block' : 'none';\n",
              "        })();\n",
              "      </script>\n",
              "    </div>\n",
              "\n",
              "    </div>\n",
              "  </div>\n"
            ],
            "application/vnd.google.colaboratory.intrinsic+json": {
              "type": "dataframe",
              "summary": "{\n  \"name\": \"sessions_df\",\n  \"rows\": 8,\n  \"fields\": [\n    {\n      \"column\": \"page_views\",\n      \"properties\": {\n        \"dtype\": \"number\",\n        \"std\": 87691.09566446066,\n        \"min\": 1.0,\n        \"max\": 248033.0,\n        \"num_unique_values\": 8,\n        \"samples\": [\n          4.218762825914292,\n          4.0,\n          248033.0\n        ],\n        \"semantic_type\": \"\",\n        \"description\": \"\"\n      }\n    },\n    {\n      \"column\": \"session_duration_minutes\",\n      \"properties\": {\n        \"dtype\": \"number\",\n        \"std\": 87689.67467259621,\n        \"min\": 0.0,\n        \"max\": 248033.0,\n        \"num_unique_values\": 8,\n        \"samples\": [\n          4.630425576435395,\n          3.674,\n          248033.0\n        ],\n        \"semantic_type\": \"\",\n        \"description\": \"\"\n      }\n    },\n    {\n      \"column\": \"clicked_cta\",\n      \"properties\": {\n        \"dtype\": \"number\",\n        \"std\": 87692.8258532066,\n        \"min\": 0.0,\n        \"max\": 248033.0,\n        \"num_unique_values\": 5,\n        \"samples\": [\n          0.21687436752367628,\n          1.0,\n          0.41211716900073675\n        ],\n        \"semantic_type\": \"\",\n        \"description\": \"\"\n      }\n    },\n    {\n      \"column\": \"converted\",\n      \"properties\": {\n        \"dtype\": \"number\",\n        \"std\": 87692.84414417982,\n        \"min\": 0.0,\n        \"max\": 248033.0,\n        \"num_unique_values\": 5,\n        \"samples\": [\n          0.04964258788145126,\n          1.0,\n          0.2172058736772755\n        ],\n        \"semantic_type\": \"\",\n        \"description\": \"\"\n      }\n    },\n    {\n      \"column\": \"revenue\",\n      \"properties\": {\n        \"dtype\": \"number\",\n        \"std\": 87652.53979661867,\n        \"min\": 0.0,\n        \"max\": 248033.0,\n        \"num_unique_values\": 5,\n        \"samples\": [\n          2.267481464160011,\n          791.75,\n          13.847721639223312\n        ],\n        \"semantic_type\": \"\",\n        \"description\": \"\"\n      }\n    },\n    {\n      \"column\": \"log_revenue\",\n      \"properties\": {\n        \"dtype\": \"number\",\n        \"std\": 87692.52230593302,\n        \"min\": 0.0,\n        \"max\": 248033.0,\n        \"num_unique_values\": 5,\n        \"samples\": [\n          0.17584970559721508,\n          6.675511083434152,\n          0.7881413477214348\n        ],\n        \"semantic_type\": \"\",\n        \"description\": \"\"\n      }\n    },\n    {\n      \"column\": \"week_number\",\n      \"properties\": {\n        \"dtype\": \"number\",\n        \"std\": 87690.60255475985,\n        \"min\": 1.0,\n        \"max\": 248033.0,\n        \"num_unique_values\": 8,\n        \"samples\": [\n          6.936343147887579,\n          7.0,\n          248033.0\n        ],\n        \"semantic_type\": \"\",\n        \"description\": \"\"\n      }\n    },\n    {\n      \"column\": \"month\",\n      \"properties\": {\n        \"dtype\": \"number\",\n        \"std\": 87692.26096396545,\n        \"min\": 0.8238570432661095,\n        \"max\": 248033.0,\n        \"num_unique_values\": 6,\n        \"samples\": [\n          248033.0,\n          1.9894409211677477,\n          3.0\n        ],\n        \"semantic_type\": \"\",\n        \"description\": \"\"\n      }\n    }\n  ]\n}"
            }
          },
          "metadata": {},
          "execution_count": 23
        }
      ]
    },
    {
      "cell_type": "markdown",
      "source": [
        "**Category Balance**"
      ],
      "metadata": {
        "id": "hNphUuc8BsuD"
      }
    },
    {
      "cell_type": "code",
      "source": [
        "for col in ['device_type', 'traffic_source', 'user_type']:\n",
        "    print(f\"\\n{col} distribution:\")\n",
        "    print(sessions_df[col].value_counts(normalize=True))"
      ],
      "metadata": {
        "colab": {
          "base_uri": "https://localhost:8080/"
        },
        "id": "-XFP2O9iBEsS",
        "outputId": "a478f9f4-9108-4208-d2f2-9ac2e379ccac"
      },
      "execution_count": null,
      "outputs": [
        {
          "output_type": "stream",
          "name": "stdout",
          "text": [
            "\n",
            "device_type distribution:\n",
            "device_type\n",
            "mobile     0.451021\n",
            "desktop    0.450174\n",
            "tablet     0.098805\n",
            "Name: proportion, dtype: float64\n",
            "\n",
            "traffic_source distribution:\n",
            "traffic_source\n",
            "organic        0.348208\n",
            "paid_search    0.249265\n",
            "direct         0.152939\n",
            "social         0.150262\n",
            "email          0.099325\n",
            "Name: proportion, dtype: float64\n",
            "\n",
            "user_type distribution:\n",
            "user_type\n",
            "new          0.648321\n",
            "returning    0.351679\n",
            "Name: proportion, dtype: float64\n"
          ]
        }
      ]
    },
    {
      "cell_type": "markdown",
      "source": [
        "The categories are almost balanced as we envisioned in our business assumptions."
      ],
      "metadata": {
        "id": "yafyRxR3B8Gf"
      }
    },
    {
      "cell_type": "markdown",
      "source": [
        "**Temporal Logic for Registration Dates**"
      ],
      "metadata": {
        "id": "pE6FighgC8m1"
      }
    },
    {
      "cell_type": "code",
      "source": [
        "merged = sessions_df.merge(users_df[['user_id', 'registration_date']], on='user_id')\n",
        "invalid_dates = (pd.to_datetime(merged['session_date']) < pd.to_datetime(merged['registration_date'])).sum()\n",
        "print(\"Sessions before registration:\", invalid_dates)"
      ],
      "metadata": {
        "colab": {
          "base_uri": "https://localhost:8080/"
        },
        "id": "CtnyicEVCWNJ",
        "outputId": "7eb026ae-c306-402b-8347-cd7b9d2e5f85"
      },
      "execution_count": null,
      "outputs": [
        {
          "output_type": "stream",
          "name": "stdout",
          "text": [
            "Sessions before registration: 0\n"
          ]
        }
      ]
    },
    {
      "cell_type": "markdown",
      "source": [
        "**Check for negative values in revenues and page views**"
      ],
      "metadata": {
        "id": "S5Rxskg0DHIZ"
      }
    },
    {
      "cell_type": "code",
      "source": [
        "print(\"Negative revenues:\", (sessions_df['revenue'] < 0).sum())\n",
        "print(\"Zero or negative page_views:\", (sessions_df['page_views'] <= 0).sum())"
      ],
      "metadata": {
        "colab": {
          "base_uri": "https://localhost:8080/"
        },
        "id": "hkls23B_C6ch",
        "outputId": "57db0d38-e41e-4bfa-f511-7c8a67ab8ad7"
      },
      "execution_count": null,
      "outputs": [
        {
          "output_type": "stream",
          "name": "stdout",
          "text": [
            "Negative revenues: 0\n",
            "Zero or negative page_views: 0\n"
          ]
        }
      ]
    },
    {
      "cell_type": "markdown",
      "source": [
        "**Group Assignment Balance**"
      ],
      "metadata": {
        "id": "_jT2g8rADRoK"
      }
    },
    {
      "cell_type": "code",
      "source": [
        "for col in ['image_layout_group', 'cta_button_group', 'social_proof_group']:\n",
        "    print(f\"{col} group balance:\\n\", sessions_df[col].value_counts(normalize=True))"
      ],
      "metadata": {
        "colab": {
          "base_uri": "https://localhost:8080/"
        },
        "id": "ZgpFuVzEDNXW",
        "outputId": "248eace4-c123-4cf9-fb62-e6214f67c890"
      },
      "execution_count": null,
      "outputs": [
        {
          "output_type": "stream",
          "name": "stdout",
          "text": [
            "image_layout_group group balance:\n",
            " image_layout_group\n",
            "control      0.501619\n",
            "treatment    0.498381\n",
            "Name: proportion, dtype: float64\n",
            "cta_button_group group balance:\n",
            " cta_button_group\n",
            "control      0.500208\n",
            "treatment    0.499792\n",
            "Name: proportion, dtype: float64\n",
            "social_proof_group group balance:\n",
            " social_proof_group\n",
            "treatment    0.501691\n",
            "control      0.498309\n",
            "Name: proportion, dtype: float64\n"
          ]
        }
      ]
    },
    {
      "cell_type": "markdown",
      "source": [
        "Each of the experimental groups are very close to a 50/50 split between control and treatment. This matches our intended 50/50 allocation."
      ],
      "metadata": {
        "id": "gg0PmbJUDchJ"
      }
    },
    {
      "cell_type": "markdown",
      "source": [
        "## Conclusion"
      ],
      "metadata": {
        "id": "9ottCbulEQkD"
      }
    },
    {
      "cell_type": "markdown",
      "source": [
        "We generated synthetic datasets for A/B hypothesis testing. This synthetic data distribution looks realistic and closely models real-world e-commerce behavior. We undertook data quality checks to ensure that the group assignments are balanced.\n",
        "\n",
        "**Limitations:**\n",
        "\n",
        "The synthetic data generated are intended to reflect a wide ranging real-world scenarios. However, they may not capture certain edge cases. We also made various business assumptions to simulate the data which might undergo revisions with changing technologies and times.\n",
        "\n",
        "**Next Steps:**\n",
        "\n",
        "We will next proceed to use this datatsets for Exploratory Analysis before undertaking the Hypothesis Tests.\n",
        "We will continue to monitor and improve data quality as the project progresses."
      ],
      "metadata": {
        "id": "fzqbIvEGETYv"
      }
    },
    {
      "cell_type": "code",
      "source": [],
      "metadata": {
        "id": "SY9TeKITDXId"
      },
      "execution_count": null,
      "outputs": []
    }
  ]
}